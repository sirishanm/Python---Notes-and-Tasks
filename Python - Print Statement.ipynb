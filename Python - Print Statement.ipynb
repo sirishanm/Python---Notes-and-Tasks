{
 "cells": [
  {
   "cell_type": "markdown",
   "id": "2453c939-a267-4a23-a1c1-f5a783241c98",
   "metadata": {},
   "source": [
    "### print is used for answer"
   ]
  },
  {
   "cell_type": "code",
   "execution_count": 3,
   "id": "f8e5175b-8b27-4210-bb0d-9540160caa65",
   "metadata": {},
   "outputs": [
    {
     "data": {
      "text/plain": [
       "7"
      ]
     },
     "execution_count": 3,
     "metadata": {},
     "output_type": "execute_result"
    }
   ],
   "source": [
    "a = 5\n",
    "b = 7\n",
    "a\n",
    "b # gives answer for last input"
   ]
  },
  {
   "cell_type": "code",
   "execution_count": 7,
   "id": "a9d66e1a-7f99-4ac5-97e0-877c08a20ffc",
   "metadata": {},
   "outputs": [
    {
     "name": "stdout",
     "output_type": "stream",
     "text": [
      "5\n",
      "7\n"
     ]
    }
   ],
   "source": [
    "a = 5\n",
    "b = 7\n",
    "print(a)\n",
    "print(b)"
   ]
  },
  {
   "cell_type": "code",
   "execution_count": 11,
   "id": "390d3897-7310-45ad-926d-4475df621566",
   "metadata": {},
   "outputs": [
    {
     "name": "stdout",
     "output_type": "stream",
     "text": [
      "5\n",
      "5 7\n",
      "python\n",
      "5 7 pyhton\n"
     ]
    }
   ],
   "source": [
    "print(5)\n",
    "print(5,7)\n",
    "print('python')\n",
    "print(5,7,'pyhton')"
   ]
  },
  {
   "cell_type": "code",
   "execution_count": 15,
   "id": "d2cc4a98-3552-4632-ac60-686b63965c91",
   "metadata": {},
   "outputs": [
    {
     "name": "stdout",
     "output_type": "stream",
     "text": [
      "8\n"
     ]
    }
   ],
   "source": [
    "num1 = 3\n",
    "num2 = 5\n",
    "add=num1+num2\n",
    "print(add)"
   ]
  },
  {
   "cell_type": "markdown",
   "id": "66d4f1bc-4120-4bfc-9624-97dcaf49bd7f",
   "metadata": {},
   "source": [
    "### print result with string"
   ]
  },
  {
   "cell_type": "code",
   "execution_count": 22,
   "id": "db7092df-381a-478c-a3c8-a760ff46b837",
   "metadata": {},
   "outputs": [
    {
     "name": "stdout",
     "output_type": "stream",
     "text": [
      "The addition of 3 and 5 is= 8\n"
     ]
    }
   ],
   "source": [
    "num1 = 3\n",
    "num2 = 5\n",
    "add=num1+num2\n",
    "print('The addition of',num1,'and',num2,'is=',add)"
   ]
  },
  {
   "cell_type": "code",
   "execution_count": 34,
   "id": "a2c94c9a-0d7f-43ba-b83e-503db45d4a98",
   "metadata": {},
   "outputs": [
    {
     "name": "stdout",
     "output_type": "stream",
     "text": [
      "My name is star i am 20 years old from hyd\n"
     ]
    }
   ],
   "source": [
    "name='star'\n",
    "age=20\n",
    "city='hyd'\n",
    "print('My name is',name,'i am',age,'years old from',city) "
   ]
  },
  {
   "cell_type": "code",
   "execution_count": 50,
   "id": "07493eb7-c517-4f1c-b267-968ab2d66866",
   "metadata": {},
   "outputs": [
    {
     "name": "stdout",
     "output_type": "stream",
     "text": [
      "The addition of 2 and 5 is = 7\n"
     ]
    }
   ],
   "source": [
    "num1 = 2\n",
    "num2 = 5\n",
    "add=num1+num2\n",
    "print('The addition of {0} and {1} is = {2}'.format(num1, num2, add))"
   ]
  },
  {
   "cell_type": "code",
   "execution_count": null,
   "id": "9bd8ce64-4065-4b8f-a3c8-2ccaeba20b47",
   "metadata": {},
   "outputs": [],
   "source": [
    "# first deside how the print statement should be like:- The addition of 2 and 5 is = 7\n",
    "# then replace the variable position with curly braces { }\n",
    "# then appply .format(val1,val2,....val-n method"
   ]
  },
  {
   "cell_type": "code",
   "execution_count": 54,
   "id": "d5d9f351-e68e-4365-9a6c-bfcfed5dd40e",
   "metadata": {},
   "outputs": [
    {
     "name": "stdout",
     "output_type": "stream",
     "text": [
      "My name is star i am 20 years old from city hyd\n"
     ]
    }
   ],
   "source": [
    "name='star'\n",
    "age=20\n",
    "city='hyd'\n",
    "print('My name is {} i am {} years old from city {}'.format(name,age,city))"
   ]
  },
  {
   "cell_type": "code",
   "execution_count": 102,
   "id": "a3cd048e-72eb-4f1d-b13f-a05a54b75f0d",
   "metadata": {},
   "outputs": [
    {
     "name": "stdout",
     "output_type": "stream",
     "text": [
      "My name is star i am 20 years old from hyd\n"
     ]
    }
   ],
   "source": [
    "name='star'\n",
    "age=20\n",
    "city='hyd'\n",
    "print(f'My name is {name} i am {age} years old from {city}')"
   ]
  },
  {
   "cell_type": "code",
   "execution_count": 106,
   "id": "9b81c0b6-f73b-49bf-b221-b631ca180eea",
   "metadata": {},
   "outputs": [
    {
     "name": "stdout",
     "output_type": "stream",
     "text": [
      "233.33333333333334\n",
      "233.33\n"
     ]
    }
   ],
   "source": [
    "n1 = 100\n",
    "n2 = 250\n",
    "n3 = 350\n",
    "avg = (n1 + n2 + n3) / 3\n",
    "avg1 = round((n1 + n2 + n3) / 3, 2)\n",
    "print(avg)\n",
    "print(avg1)"
   ]
  },
  {
   "cell_type": "code",
   "execution_count": 96,
   "id": "53dd1ec3-dbc4-4fce-a8e0-d8481235bdbf",
   "metadata": {},
   "outputs": [
    {
     "name": "stdout",
     "output_type": "stream",
     "text": [
      "The average of 100, 250 and 330 is 226.666666666666657 or 226.67\n"
     ]
    }
   ],
   "source": [
    "n1 = 100\n",
    "n2 = 250\n",
    "n3 = 330\n",
    "avg = (n1 + n2 + n3) / 3\n",
    "avg1 = round((n1 + n2 + n3) / 3, 2) # round of till 2 digit after decimal\n",
    "print(f'The average of {n1}, {n2} and {n3} is {avg:.15f} or {avg1:.2f}') # best way to use f"
   ]
  },
  {
   "cell_type": "code",
   "execution_count": 104,
   "id": "2c2cfbb0-14a8-40b3-a94e-19acdae26a73",
   "metadata": {},
   "outputs": [
    {
     "name": "stdout",
     "output_type": "stream",
     "text": [
      "The avrage of 100, 250 and 330 is = 226.66666666666666\n"
     ]
    }
   ],
   "source": [
    "print(f'The avrage of {n1}, {n2} and {n3} is = {avg}')"
   ]
  },
  {
   "cell_type": "code",
   "execution_count": 118,
   "id": "45c3ac26-ef86-419b-9ffa-8ba76703ae2e",
   "metadata": {},
   "outputs": [
    {
     "name": "stdout",
     "output_type": "stream",
     "text": [
      "The addition of 1 and 2 is= 3\n",
      "The addition of 1 and 2 is= 3\n",
      "The addition of 1 and 2 is= 3\n"
     ]
    }
   ],
   "source": [
    "n1 = 1\n",
    "n2 = 2\n",
    "add = n1+n2\n",
    "print('The addition of',n1,'and',n2,'is=',add)\n",
    "print('The addition of {} and {} is= {}'.format(n1,n2,add))\n",
    "print(f'The addition of {n1} and {n2} is= {add}')"
   ]
  },
  {
   "cell_type": "markdown",
   "id": "9e491c60-1151-47a7-a50b-d5e39eecb932",
   "metadata": {},
   "source": [
    "### end statement"
   ]
  },
  {
   "cell_type": "code",
   "execution_count": 122,
   "id": "8afd2a3e-afdc-4a86-a23e-163686618674",
   "metadata": {},
   "outputs": [
    {
     "name": "stdout",
     "output_type": "stream",
     "text": [
      "hello\n",
      "python\n"
     ]
    }
   ],
   "source": [
    "print('hello') # 1st statement\n",
    "print('python') # 2nd statement)\n",
    "# i want print like:- hellow good morning"
   ]
  },
  {
   "cell_type": "code",
   "execution_count": 124,
   "id": "8a3e6be9-bb08-4179-aee5-38b96ca32f6c",
   "metadata": {},
   "outputs": [
    {
     "name": "stdout",
     "output_type": "stream",
     "text": [
      "hello python\n"
     ]
    }
   ],
   "source": [
    "print('hello', end=' ') # 1st statement\n",
    "print('python') # 2nd statement"
   ]
  },
  {
   "cell_type": "code",
   "execution_count": null,
   "id": "7674d3b6-c4fd-4727-9623-77bb3c271e63",
   "metadata": {},
   "outputs": [],
   "source": [
    "# Here we will use 'end' statement that joint line from end of one string to starting of other string"
   ]
  },
  {
   "cell_type": "markdown",
   "id": "225f4101-9876-42a3-bb78-7d23cd9a1766",
   "metadata": {},
   "source": [
    "### seperator"
   ]
  },
  {
   "cell_type": "code",
   "execution_count": 128,
   "id": "063717d5-9f12-419c-b8ed-b1fd743f5ad5",
   "metadata": {},
   "outputs": [
    {
     "name": "stdout",
     "output_type": "stream",
     "text": [
      "hello--->python--->how are you\n"
     ]
    }
   ],
   "source": [
    "print('hello','python','how are you',sep='--->')"
   ]
  },
  {
   "cell_type": "code",
   "execution_count": 130,
   "id": "1bc99abf-4d7a-412e-9b63-0fd765df7b2f",
   "metadata": {},
   "outputs": [
    {
     "name": "stdout",
     "output_type": "stream",
     "text": [
      "hello&python&how are you\n"
     ]
    }
   ],
   "source": [
    "print('hello','python','how are you',sep='&')"
   ]
  },
  {
   "cell_type": "code",
   "execution_count": 132,
   "id": "34b12336-96f7-44a5-b69d-aece4c236ab0",
   "metadata": {},
   "outputs": [
    {
     "name": "stdout",
     "output_type": "stream",
     "text": [
      "hello@python@how are you\n"
     ]
    }
   ],
   "source": [
    "print('hello','python','how are you',sep='@')"
   ]
  },
  {
   "cell_type": "code",
   "execution_count": 146,
   "id": "f705ae95-6bab-4ef3-83b8-2c5badf34e5d",
   "metadata": {},
   "outputs": [
    {
     "name": "stdout",
     "output_type": "stream",
     "text": [
      "hello python how are you\n"
     ]
    }
   ],
   "source": [
    "print('hello','python','how are you',sep=' ')"
   ]
  },
  {
   "cell_type": "code",
   "execution_count": 148,
   "id": "2d55e7c0-ec6b-457f-b9e5-bb1c45faeee4",
   "metadata": {},
   "outputs": [
    {
     "name": "stdout",
     "output_type": "stream",
     "text": [
      "1 2 3\n"
     ]
    }
   ],
   "source": [
    "print(1,2,3,sep=\" \")"
   ]
  },
  {
   "cell_type": "code",
   "execution_count": 154,
   "id": "f5110d37-d1f0-4509-aec3-13a837630df0",
   "metadata": {},
   "outputs": [
    {
     "name": "stdout",
     "output_type": "stream",
     "text": [
      "4 .\n"
     ]
    }
   ],
   "source": [
    "print(4,'.')"
   ]
  },
  {
   "cell_type": "code",
   "execution_count": 160,
   "id": "bbc5e98e-fb2d-4cca-a05b-17aedd411331",
   "metadata": {},
   "outputs": [
    {
     "name": "stdout",
     "output_type": "stream",
     "text": [
      "5 .\n"
     ]
    }
   ],
   "source": [
    "print(5,'.',sep=' ')"
   ]
  },
  {
   "cell_type": "code",
   "execution_count": 170,
   "id": "a9f4c526-34de-4e8e-bbdf-5edaeeb323f3",
   "metadata": {},
   "outputs": [
    {
     "name": "stdout",
     "output_type": "stream",
     "text": [
      "1 2 3 4 2.\n"
     ]
    }
   ],
   "source": [
    "print(1,2,3,4,end=' ')\n",
    "print(2,'.',sep='')"
   ]
  },
  {
   "cell_type": "code",
   "execution_count": null,
   "id": "e75103a5-327d-457c-a58a-4469df31b187",
   "metadata": {},
   "outputs": [],
   "source": [
    "# the end"
   ]
  }
 ],
 "metadata": {
  "kernelspec": {
   "display_name": "Python 3 (ipykernel)",
   "language": "python",
   "name": "python3"
  },
  "language_info": {
   "codemirror_mode": {
    "name": "ipython",
    "version": 3
   },
   "file_extension": ".py",
   "mimetype": "text/x-python",
   "name": "python",
   "nbconvert_exporter": "python",
   "pygments_lexer": "ipython3",
   "version": "3.12.7"
  }
 },
 "nbformat": 4,
 "nbformat_minor": 5
}
