{
 "cells": [
  {
   "cell_type": "markdown",
   "id": "ba52d6ef-cfba-4219-94d6-10cddb11ccee",
   "metadata": {},
   "source": [
    "### TASK - Raw data to Clean data \n",
    "\n",
    "This project involves cleaning and processing address and timestamp data. The address field in the dataset is split into individual components (House Address, Street, City, State, Zip), and the timestamp is broken down into Month, Date, Year, Hour, Minutes, and Seconds. The cleaned data is then exported to an Excel file for further analysis."
   ]
  },
  {
   "cell_type": "code",
   "execution_count": 2,
   "id": "327447ac-9951-45a0-9bf9-01196c45f12e",
   "metadata": {},
   "outputs": [],
   "source": [
    "import pandas as pd"
   ]
  },
  {
   "cell_type": "code",
   "execution_count": 29,
   "id": "f91a7b3c-90b2-48ba-8721-6c4e6a9e5d65",
   "metadata": {},
   "outputs": [
    {
     "data": {
      "text/html": [
       "<div>\n",
       "<style scoped>\n",
       "    .dataframe tbody tr th:only-of-type {\n",
       "        vertical-align: middle;\n",
       "    }\n",
       "\n",
       "    .dataframe tbody tr th {\n",
       "        vertical-align: top;\n",
       "    }\n",
       "\n",
       "    .dataframe thead th {\n",
       "        text-align: right;\n",
       "    }\n",
       "</style>\n",
       "<table border=\"1\" class=\"dataframe\">\n",
       "  <thead>\n",
       "    <tr style=\"text-align: right;\">\n",
       "      <th></th>\n",
       "      <th>ADDR</th>\n",
       "      <th>DT</th>\n",
       "      <th>NAME</th>\n",
       "      <th>time</th>\n",
       "    </tr>\n",
       "  </thead>\n",
       "  <tbody>\n",
       "    <tr>\n",
       "      <th>0</th>\n",
       "      <td>45 rd, kenith street, btm, bangalore 500038</td>\n",
       "      <td>2022-04-03</td>\n",
       "      <td>abc</td>\n",
       "      <td>8:30:21</td>\n",
       "    </tr>\n",
       "    <tr>\n",
       "      <th>1</th>\n",
       "      <td>45 rd,  street, hitech, Hd 500038</td>\n",
       "      <td>2022-04-02</td>\n",
       "      <td>dec</td>\n",
       "      <td>5:30:21</td>\n",
       "    </tr>\n",
       "  </tbody>\n",
       "</table>\n",
       "</div>"
      ],
      "text/plain": [
       "                                          ADDR         DT NAME     time\n",
       "0  45 rd, kenith street, btm, bangalore 500038 2022-04-03  abc  8:30:21\n",
       "1            45 rd,  street, hitech, Hd 500038 2022-04-02  dec  5:30:21"
      ]
     },
     "execution_count": 29,
     "metadata": {},
     "output_type": "execute_result"
    }
   ],
   "source": [
    "rd = pd.read_excel(r'Downloads\\Raw data.xlsx')\n",
    "rd # raw data"
   ]
  },
  {
   "cell_type": "code",
   "execution_count": 33,
   "id": "7b835538-fe38-4519-92ed-641339c515a2",
   "metadata": {},
   "outputs": [
    {
     "data": {
      "text/plain": [
       "Index(['ADDR', 'DT', 'NAME', 'time'], dtype='object')"
      ]
     },
     "execution_count": 33,
     "metadata": {},
     "output_type": "execute_result"
    }
   ],
   "source": [
    "rd.columns"
   ]
  },
  {
   "cell_type": "code",
   "execution_count": 35,
   "id": "dc238f38-da07-4cdb-944f-5d4518001002",
   "metadata": {},
   "outputs": [
    {
     "name": "stdout",
     "output_type": "stream",
     "text": [
      "<class 'pandas.core.frame.DataFrame'>\n",
      "RangeIndex: 2 entries, 0 to 1\n",
      "Data columns (total 4 columns):\n",
      " #   Column  Non-Null Count  Dtype         \n",
      "---  ------  --------------  -----         \n",
      " 0   ADDR    2 non-null      object        \n",
      " 1   DT      2 non-null      datetime64[ns]\n",
      " 2   NAME    2 non-null      object        \n",
      " 3   time    2 non-null      object        \n",
      "dtypes: datetime64[ns](1), object(3)\n",
      "memory usage: 196.0+ bytes\n"
     ]
    }
   ],
   "source": [
    "rd.info()"
   ]
  },
  {
   "cell_type": "code",
   "execution_count": 5,
   "id": "3622f7b2-774d-4198-a958-0e6c161881f8",
   "metadata": {},
   "outputs": [
    {
     "data": {
      "text/html": [
       "<div>\n",
       "<style scoped>\n",
       "    .dataframe tbody tr th:only-of-type {\n",
       "        vertical-align: middle;\n",
       "    }\n",
       "\n",
       "    .dataframe tbody tr th {\n",
       "        vertical-align: top;\n",
       "    }\n",
       "\n",
       "    .dataframe thead th {\n",
       "        text-align: right;\n",
       "    }\n",
       "</style>\n",
       "<table border=\"1\" class=\"dataframe\">\n",
       "  <thead>\n",
       "    <tr style=\"text-align: right;\">\n",
       "      <th></th>\n",
       "      <th>ADDR</th>\n",
       "      <th>DT</th>\n",
       "      <th>NAME</th>\n",
       "      <th>time</th>\n",
       "    </tr>\n",
       "  </thead>\n",
       "  <tbody>\n",
       "    <tr>\n",
       "      <th>0</th>\n",
       "      <td>False</td>\n",
       "      <td>False</td>\n",
       "      <td>False</td>\n",
       "      <td>False</td>\n",
       "    </tr>\n",
       "    <tr>\n",
       "      <th>1</th>\n",
       "      <td>False</td>\n",
       "      <td>False</td>\n",
       "      <td>False</td>\n",
       "      <td>False</td>\n",
       "    </tr>\n",
       "  </tbody>\n",
       "</table>\n",
       "</div>"
      ],
      "text/plain": [
       "    ADDR     DT   NAME   time\n",
       "0  False  False  False  False\n",
       "1  False  False  False  False"
      ]
     },
     "execution_count": 5,
     "metadata": {},
     "output_type": "execute_result"
    }
   ],
   "source": [
    "rd.isna()"
   ]
  },
  {
   "cell_type": "code",
   "execution_count": 6,
   "id": "cfa9ef29-3aef-4575-ae32-04d51ad2d4fe",
   "metadata": {},
   "outputs": [
    {
     "data": {
      "text/plain": [
       "ADDR    0\n",
       "DT      0\n",
       "NAME    0\n",
       "time    0\n",
       "dtype: int64"
      ]
     },
     "execution_count": 6,
     "metadata": {},
     "output_type": "execute_result"
    }
   ],
   "source": [
    "rd.isnull().sum()"
   ]
  },
  {
   "cell_type": "code",
   "execution_count": 7,
   "id": "e07fb439-73c8-42a6-8241-22cbe779b200",
   "metadata": {},
   "outputs": [
    {
     "data": {
      "text/html": [
       "<div>\n",
       "<style scoped>\n",
       "    .dataframe tbody tr th:only-of-type {\n",
       "        vertical-align: middle;\n",
       "    }\n",
       "\n",
       "    .dataframe tbody tr th {\n",
       "        vertical-align: top;\n",
       "    }\n",
       "\n",
       "    .dataframe thead th {\n",
       "        text-align: right;\n",
       "    }\n",
       "</style>\n",
       "<table border=\"1\" class=\"dataframe\">\n",
       "  <thead>\n",
       "    <tr style=\"text-align: right;\">\n",
       "      <th></th>\n",
       "      <th>ADDR</th>\n",
       "      <th>DT</th>\n",
       "      <th>NAME</th>\n",
       "      <th>time</th>\n",
       "      <th>Houseadd</th>\n",
       "      <th>Street</th>\n",
       "      <th>City</th>\n",
       "      <th>State_Zip</th>\n",
       "    </tr>\n",
       "  </thead>\n",
       "  <tbody>\n",
       "    <tr>\n",
       "      <th>0</th>\n",
       "      <td>45 rd, kenith street, btm, bangalore 500038</td>\n",
       "      <td>2022-04-03</td>\n",
       "      <td>abc</td>\n",
       "      <td>8:30:21</td>\n",
       "      <td>45 rd</td>\n",
       "      <td>kenith street</td>\n",
       "      <td>btm</td>\n",
       "      <td>bangalore 500038</td>\n",
       "    </tr>\n",
       "    <tr>\n",
       "      <th>1</th>\n",
       "      <td>45 rd,  street, hitech, Hd 500038</td>\n",
       "      <td>2022-04-02</td>\n",
       "      <td>dec</td>\n",
       "      <td>5:30:21</td>\n",
       "      <td>45 rd</td>\n",
       "      <td>street</td>\n",
       "      <td>hitech</td>\n",
       "      <td>Hd 500038</td>\n",
       "    </tr>\n",
       "  </tbody>\n",
       "</table>\n",
       "</div>"
      ],
      "text/plain": [
       "                                          ADDR         DT NAME     time  \\\n",
       "0  45 rd, kenith street, btm, bangalore 500038 2022-04-03  abc  8:30:21   \n",
       "1            45 rd,  street, hitech, Hd 500038 2022-04-02  dec  5:30:21   \n",
       "\n",
       "  Houseadd          Street     City          State_Zip  \n",
       "0    45 rd   kenith street      btm   bangalore 500038  \n",
       "1    45 rd          street   hitech          Hd 500038  "
      ]
     },
     "execution_count": 7,
     "metadata": {},
     "output_type": "execute_result"
    }
   ],
   "source": [
    "#Step 1 Clean the Address Column split it in to House Addr,Street,City,State_Zip\n",
    "\n",
    "rd[['Houseadd','Street','City','State_Zip']] = rd['ADDR'].str.split(',',expand = True)\n",
    "rd"
   ]
  },
  {
   "cell_type": "code",
   "execution_count": 8,
   "id": "01b15818-4a58-47ab-9b21-e1d7ac5eff8f",
   "metadata": {},
   "outputs": [
    {
     "data": {
      "text/html": [
       "<div>\n",
       "<style scoped>\n",
       "    .dataframe tbody tr th:only-of-type {\n",
       "        vertical-align: middle;\n",
       "    }\n",
       "\n",
       "    .dataframe tbody tr th {\n",
       "        vertical-align: top;\n",
       "    }\n",
       "\n",
       "    .dataframe thead th {\n",
       "        text-align: right;\n",
       "    }\n",
       "</style>\n",
       "<table border=\"1\" class=\"dataframe\">\n",
       "  <thead>\n",
       "    <tr style=\"text-align: right;\">\n",
       "      <th></th>\n",
       "      <th>ADDR</th>\n",
       "      <th>DT</th>\n",
       "      <th>NAME</th>\n",
       "      <th>time</th>\n",
       "      <th>Houseadd</th>\n",
       "      <th>Street</th>\n",
       "      <th>City</th>\n",
       "      <th>State_Zip</th>\n",
       "      <th>State</th>\n",
       "      <th>Zip</th>\n",
       "    </tr>\n",
       "  </thead>\n",
       "  <tbody>\n",
       "    <tr>\n",
       "      <th>0</th>\n",
       "      <td>45 rd, kenith street, btm, bangalore 500038</td>\n",
       "      <td>2022-04-03</td>\n",
       "      <td>abc</td>\n",
       "      <td>8:30:21</td>\n",
       "      <td>45 rd</td>\n",
       "      <td>kenith street</td>\n",
       "      <td>btm</td>\n",
       "      <td>bangalore 500038</td>\n",
       "      <td>bangalore</td>\n",
       "      <td>500038</td>\n",
       "    </tr>\n",
       "    <tr>\n",
       "      <th>1</th>\n",
       "      <td>45 rd,  street, hitech, Hd 500038</td>\n",
       "      <td>2022-04-02</td>\n",
       "      <td>dec</td>\n",
       "      <td>5:30:21</td>\n",
       "      <td>45 rd</td>\n",
       "      <td>street</td>\n",
       "      <td>hitech</td>\n",
       "      <td>Hd 500038</td>\n",
       "      <td>Hd</td>\n",
       "      <td>500038</td>\n",
       "    </tr>\n",
       "  </tbody>\n",
       "</table>\n",
       "</div>"
      ],
      "text/plain": [
       "                                          ADDR         DT NAME     time  \\\n",
       "0  45 rd, kenith street, btm, bangalore 500038 2022-04-03  abc  8:30:21   \n",
       "1            45 rd,  street, hitech, Hd 500038 2022-04-02  dec  5:30:21   \n",
       "\n",
       "  Houseadd          Street     City         State_Zip      State     Zip  \n",
       "0    45 rd   kenith street      btm  bangalore 500038  bangalore  500038  \n",
       "1    45 rd          street   hitech         Hd 500038         Hd  500038  "
      ]
     },
     "execution_count": 8,
     "metadata": {},
     "output_type": "execute_result"
    }
   ],
   "source": [
    "#Step2 as State Zip is not comma seperated we need to split based on Space\n",
    "\n",
    "rd['State_Zip'] = rd['State_Zip'].str.strip()\n",
    "rd[['State','Zip']] = rd['State_Zip'].str.split(' ',expand = True)\n",
    "rd"
   ]
  },
  {
   "cell_type": "code",
   "execution_count": 9,
   "id": "9ef6fa2b-819a-4e3d-98b2-919a88b0664b",
   "metadata": {},
   "outputs": [
    {
     "data": {
      "text/html": [
       "<div>\n",
       "<style scoped>\n",
       "    .dataframe tbody tr th:only-of-type {\n",
       "        vertical-align: middle;\n",
       "    }\n",
       "\n",
       "    .dataframe tbody tr th {\n",
       "        vertical-align: top;\n",
       "    }\n",
       "\n",
       "    .dataframe thead th {\n",
       "        text-align: right;\n",
       "    }\n",
       "</style>\n",
       "<table border=\"1\" class=\"dataframe\">\n",
       "  <thead>\n",
       "    <tr style=\"text-align: right;\">\n",
       "      <th></th>\n",
       "      <th>ADDR</th>\n",
       "      <th>DT</th>\n",
       "      <th>NAME</th>\n",
       "      <th>time</th>\n",
       "      <th>Houseadd</th>\n",
       "      <th>Street</th>\n",
       "      <th>City</th>\n",
       "      <th>State_Zip</th>\n",
       "      <th>State</th>\n",
       "      <th>Zip</th>\n",
       "      <th>Year</th>\n",
       "      <th>Month</th>\n",
       "      <th>Date</th>\n",
       "    </tr>\n",
       "  </thead>\n",
       "  <tbody>\n",
       "    <tr>\n",
       "      <th>0</th>\n",
       "      <td>45 rd, kenith street, btm, bangalore 500038</td>\n",
       "      <td>2022-04-03</td>\n",
       "      <td>abc</td>\n",
       "      <td>8:30:21</td>\n",
       "      <td>45 rd</td>\n",
       "      <td>kenith street</td>\n",
       "      <td>btm</td>\n",
       "      <td>bangalore 500038</td>\n",
       "      <td>bangalore</td>\n",
       "      <td>500038</td>\n",
       "      <td>2022</td>\n",
       "      <td>04</td>\n",
       "      <td>03</td>\n",
       "    </tr>\n",
       "    <tr>\n",
       "      <th>1</th>\n",
       "      <td>45 rd,  street, hitech, Hd 500038</td>\n",
       "      <td>2022-04-02</td>\n",
       "      <td>dec</td>\n",
       "      <td>5:30:21</td>\n",
       "      <td>45 rd</td>\n",
       "      <td>street</td>\n",
       "      <td>hitech</td>\n",
       "      <td>Hd 500038</td>\n",
       "      <td>Hd</td>\n",
       "      <td>500038</td>\n",
       "      <td>2022</td>\n",
       "      <td>04</td>\n",
       "      <td>02</td>\n",
       "    </tr>\n",
       "  </tbody>\n",
       "</table>\n",
       "</div>"
      ],
      "text/plain": [
       "                                          ADDR          DT NAME     time  \\\n",
       "0  45 rd, kenith street, btm, bangalore 500038  2022-04-03  abc  8:30:21   \n",
       "1            45 rd,  street, hitech, Hd 500038  2022-04-02  dec  5:30:21   \n",
       "\n",
       "  Houseadd          Street     City         State_Zip      State     Zip  \\\n",
       "0    45 rd   kenith street      btm  bangalore 500038  bangalore  500038   \n",
       "1    45 rd          street   hitech         Hd 500038         Hd  500038   \n",
       "\n",
       "   Year Month Date  \n",
       "0  2022    04   03  \n",
       "1  2022    04   02  "
      ]
     },
     "execution_count": 9,
     "metadata": {},
     "output_type": "execute_result"
    }
   ],
   "source": [
    "#Step 3 to split the date column in to Year month Date\n",
    "\n",
    "rd['DT'] = rd['DT'].astype(str)\n",
    "rd[['Year','Month','Date']] = rd['DT'].str.split('-',expand = True)\n",
    "rd"
   ]
  },
  {
   "cell_type": "code",
   "execution_count": 10,
   "id": "82120a12-0bf3-4640-acd9-06d044caecd5",
   "metadata": {},
   "outputs": [
    {
     "data": {
      "text/html": [
       "<div>\n",
       "<style scoped>\n",
       "    .dataframe tbody tr th:only-of-type {\n",
       "        vertical-align: middle;\n",
       "    }\n",
       "\n",
       "    .dataframe tbody tr th {\n",
       "        vertical-align: top;\n",
       "    }\n",
       "\n",
       "    .dataframe thead th {\n",
       "        text-align: right;\n",
       "    }\n",
       "</style>\n",
       "<table border=\"1\" class=\"dataframe\">\n",
       "  <thead>\n",
       "    <tr style=\"text-align: right;\">\n",
       "      <th></th>\n",
       "      <th>ADDR</th>\n",
       "      <th>DT</th>\n",
       "      <th>NAME</th>\n",
       "      <th>time</th>\n",
       "      <th>Houseadd</th>\n",
       "      <th>Street</th>\n",
       "      <th>City</th>\n",
       "      <th>State_Zip</th>\n",
       "      <th>State</th>\n",
       "      <th>Zip</th>\n",
       "      <th>Year</th>\n",
       "      <th>Month</th>\n",
       "      <th>Date</th>\n",
       "      <th>Hour</th>\n",
       "      <th>Minutes</th>\n",
       "      <th>Seconds</th>\n",
       "    </tr>\n",
       "  </thead>\n",
       "  <tbody>\n",
       "    <tr>\n",
       "      <th>0</th>\n",
       "      <td>45 rd, kenith street, btm, bangalore 500038</td>\n",
       "      <td>2022-04-03</td>\n",
       "      <td>abc</td>\n",
       "      <td>8:30:21</td>\n",
       "      <td>45 rd</td>\n",
       "      <td>kenith street</td>\n",
       "      <td>btm</td>\n",
       "      <td>bangalore 500038</td>\n",
       "      <td>bangalore</td>\n",
       "      <td>500038</td>\n",
       "      <td>2022</td>\n",
       "      <td>04</td>\n",
       "      <td>03</td>\n",
       "      <td>8</td>\n",
       "      <td>30</td>\n",
       "      <td>21</td>\n",
       "    </tr>\n",
       "    <tr>\n",
       "      <th>1</th>\n",
       "      <td>45 rd,  street, hitech, Hd 500038</td>\n",
       "      <td>2022-04-02</td>\n",
       "      <td>dec</td>\n",
       "      <td>5:30:21</td>\n",
       "      <td>45 rd</td>\n",
       "      <td>street</td>\n",
       "      <td>hitech</td>\n",
       "      <td>Hd 500038</td>\n",
       "      <td>Hd</td>\n",
       "      <td>500038</td>\n",
       "      <td>2022</td>\n",
       "      <td>04</td>\n",
       "      <td>02</td>\n",
       "      <td>5</td>\n",
       "      <td>30</td>\n",
       "      <td>21</td>\n",
       "    </tr>\n",
       "  </tbody>\n",
       "</table>\n",
       "</div>"
      ],
      "text/plain": [
       "                                          ADDR          DT NAME     time  \\\n",
       "0  45 rd, kenith street, btm, bangalore 500038  2022-04-03  abc  8:30:21   \n",
       "1            45 rd,  street, hitech, Hd 500038  2022-04-02  dec  5:30:21   \n",
       "\n",
       "  Houseadd          Street     City         State_Zip      State     Zip  \\\n",
       "0    45 rd   kenith street      btm  bangalore 500038  bangalore  500038   \n",
       "1    45 rd          street   hitech         Hd 500038         Hd  500038   \n",
       "\n",
       "   Year Month Date Hour Minutes Seconds  \n",
       "0  2022    04   03    8      30      21  \n",
       "1  2022    04   02    5      30      21  "
      ]
     },
     "execution_count": 10,
     "metadata": {},
     "output_type": "execute_result"
    }
   ],
   "source": [
    "#Step 4 to split the time column in to Hour Minutes and Seconds\n",
    "\n",
    "rd[['Hour','Minutes', 'Seconds']] = rd['time'].str.split(':',expand=True)\n",
    "rd"
   ]
  },
  {
   "cell_type": "code",
   "execution_count": 11,
   "id": "3e6d5633-7e13-4b5f-8b31-435e10710fd3",
   "metadata": {},
   "outputs": [
    {
     "data": {
      "text/html": [
       "<div>\n",
       "<style scoped>\n",
       "    .dataframe tbody tr th:only-of-type {\n",
       "        vertical-align: middle;\n",
       "    }\n",
       "\n",
       "    .dataframe tbody tr th {\n",
       "        vertical-align: top;\n",
       "    }\n",
       "\n",
       "    .dataframe thead th {\n",
       "        text-align: right;\n",
       "    }\n",
       "</style>\n",
       "<table border=\"1\" class=\"dataframe\">\n",
       "  <thead>\n",
       "    <tr style=\"text-align: right;\">\n",
       "      <th></th>\n",
       "      <th>NAME</th>\n",
       "      <th>Houseadd</th>\n",
       "      <th>Street</th>\n",
       "      <th>City</th>\n",
       "      <th>State</th>\n",
       "      <th>Zip</th>\n",
       "      <th>Year</th>\n",
       "      <th>Month</th>\n",
       "      <th>Date</th>\n",
       "      <th>Hour</th>\n",
       "      <th>Minutes</th>\n",
       "      <th>Seconds</th>\n",
       "    </tr>\n",
       "  </thead>\n",
       "  <tbody>\n",
       "    <tr>\n",
       "      <th>0</th>\n",
       "      <td>abc</td>\n",
       "      <td>45 rd</td>\n",
       "      <td>kenith street</td>\n",
       "      <td>btm</td>\n",
       "      <td>bangalore</td>\n",
       "      <td>500038</td>\n",
       "      <td>2022</td>\n",
       "      <td>04</td>\n",
       "      <td>03</td>\n",
       "      <td>8</td>\n",
       "      <td>30</td>\n",
       "      <td>21</td>\n",
       "    </tr>\n",
       "    <tr>\n",
       "      <th>1</th>\n",
       "      <td>dec</td>\n",
       "      <td>45 rd</td>\n",
       "      <td>street</td>\n",
       "      <td>hitech</td>\n",
       "      <td>Hd</td>\n",
       "      <td>500038</td>\n",
       "      <td>2022</td>\n",
       "      <td>04</td>\n",
       "      <td>02</td>\n",
       "      <td>5</td>\n",
       "      <td>30</td>\n",
       "      <td>21</td>\n",
       "    </tr>\n",
       "  </tbody>\n",
       "</table>\n",
       "</div>"
      ],
      "text/plain": [
       "  NAME Houseadd          Street     City      State     Zip  Year Month Date  \\\n",
       "0  abc    45 rd   kenith street      btm  bangalore  500038  2022    04   03   \n",
       "1  dec    45 rd          street   hitech         Hd  500038  2022    04   02   \n",
       "\n",
       "  Hour Minutes Seconds  \n",
       "0    8      30      21  \n",
       "1    5      30      21  "
      ]
     },
     "execution_count": 11,
     "metadata": {},
     "output_type": "execute_result"
    }
   ],
   "source": [
    "#Delete the Raw / Old Columns from the Dataframe object\n",
    "\n",
    "rd = rd.drop(['ADDR', 'DT','time','State_Zip'], axis=1)\n",
    "rd"
   ]
  },
  {
   "cell_type": "code",
   "execution_count": 23,
   "id": "c8165aac-5bce-4fdf-b4d8-5268bb8df35d",
   "metadata": {},
   "outputs": [],
   "source": [
    "#export the excelDataFrame object to Clean excel Data\n",
    "# Arranged the header and exported the columns based on cleanData output files\n",
    "\n",
    "rd[['Houseadd','Street','City','State','Zip','Month','Date',\n",
    "'Year','NAME','Hour','Minutes','Seconds']].to_excel(r\"Downloads\\CleanData.xlsx\")"
   ]
  },
  {
   "cell_type": "code",
   "execution_count": null,
   "id": "97028d96-c267-4124-a2d4-40ab96ee9f2a",
   "metadata": {},
   "outputs": [],
   "source": [
    "# the end #"
   ]
  }
 ],
 "metadata": {
  "kernelspec": {
   "display_name": "Python 3 (ipykernel)",
   "language": "python",
   "name": "python3"
  },
  "language_info": {
   "codemirror_mode": {
    "name": "ipython",
    "version": 3
   },
   "file_extension": ".py",
   "mimetype": "text/x-python",
   "name": "python",
   "nbconvert_exporter": "python",
   "pygments_lexer": "ipython3",
   "version": "3.12.7"
  }
 },
 "nbformat": 4,
 "nbformat_minor": 5
}
